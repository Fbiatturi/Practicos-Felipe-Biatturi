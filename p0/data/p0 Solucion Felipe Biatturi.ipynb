{
 "cells": [
  {
   "cell_type": "markdown",
   "metadata": {},
   "source": [
    "</center><img src=\"https://www3.um.edu.uy/logoum.jpg\" width=300></center>\n",
    "<h1 align=\"center\">Introducción a la Ciencia de Datos</h1>\n",
    "<h2 align=\"center\"> <font color='gray'>Práctico 0: Introducción a Jupyter y operaciones con tablas</font></h2>"
   ]
  },
  {
   "cell_type": "markdown",
   "metadata": {},
   "source": [
    "### <font color='289C4E'>Tabla de contenidos<font><a class='anchor' id='inicio'></a>\n",
    "- [Importe las librerías necesarias](#0)\n",
    "- [Leer archivos CSV (Comma Separated Value)](#1)\n",
    "- [Dimensión del dataframe](#2)\n",
    "- [Selección de columnas](#3)\n",
    "- [Establecer columna índice](#4)\n",
    "- [Conteo de datos únicos](#5)\n",
    "- [Visualizar datos únicos](#6)\n",
    "- [Determinar el tipo de datos](#7)\n",
    "- [Filtros](#8)\n",
    "- [Group by](#9)\n",
    "- [Merge](#10)\n",
    "- [Mapas geográficos](#11)\n",
    "- [Operaciones con tablas usando MovieLens 100k](#12)\n",
    "- [Timestamps](#13)\n",
    "- [Merge](#14)\n",
    "- [Manipulación de formatos de fecha](#15)\n",
    "- [Pivot](#16)\n",
    "    \n",
    "Al finalizar este práctico usted aprenderá a:\n",
    "- Manipular tablas.\n",
    "- Seleccionar distintas filas y columnas.\n",
    "- Formatear un dataframe.\n",
    "- Aplicar filtros a un dataframe.\n",
    "- Realizar operaciones con tablas con `pandas` de la misma manera que en `SQL`.\n",
    "- Manipular distintos tipos de datos (strings, integers, floats, datetime, etc)."
   ]
  },
  {
   "cell_type": "markdown",
   "metadata": {},
   "source": [
    "<a class='anchor' id='0'></a>"
   ]
  },
  {
   "cell_type": "markdown",
   "metadata": {},
   "source": [
    "### <font color='289C4E'>0) Importe las librerías necesarias<font> [↑](#inicio) "
   ]
  },
  {
   "cell_type": "code",
   "execution_count": 3,
   "metadata": {},
   "outputs": [],
   "source": [
    "import datetime\n",
    "import numpy as np\n",
    "import pandas as pd \n",
    "import os\n",
    "\n",
    "import matplotlib.pyplot as plt\n",
    "%matplotlib inline"
   ]
  },
  {
   "cell_type": "markdown",
   "metadata": {},
   "source": [
    "<a class=\"anchor\" id='1'></a>"
   ]
  },
  {
   "cell_type": "markdown",
   "metadata": {},
   "source": [
    "### <font color='289C4E'>1) Leer archivos CSV (Comma Separated Value)<font> [↑](#inicio) \n",
    "A la hora de analizar datos estos pueden venir en distintos formatos como por ejemplo `.csv` (Comma Separated Value), `.xlsx` (Microsoft Excel Open XML Spreadsheet), JSON (JavaScript Object Notation), YAML (Yet Another Markup Language), etc. Es frecuente encontrar datos estructurados como CSV, donde las comas son utilizadas para separar los valores de la tabla. \n",
    "\n",
    "[Pandas](https://pandas.pydata.org/) es posiblemente una de las librerías más populares para el análisis y manipulación de datos. En este práctico estaremos utilizando esta librería para analizar los datos contenidos en nuestra tabla, manipular los mismos, crear filtros, inspeccionar, visualizar y obtener estadísticas simples de nuestros datos.\n",
    "\n",
    "- Utilize la función [pd.read_csv()](https://pandas.pydata.org/pandas-docs/stable/reference/api/pandas.read_csv.html) para leer la tabla `online_reatail.csv` en formato .csv y llámele al dataframe `online_retail`.\n",
    "- Visualize el contenido del mismo utilizando la funcion [.head()](https://pandas.pydata.org/docs/reference/api/pandas.DataFrame.head.html)"
   ]
  },
  {
   "cell_type": "code",
   "execution_count": 4,
   "metadata": {},
   "outputs": [
    {
     "name": "stdout",
     "output_type": "stream",
     "text": [
      "  InvoiceNo StockCode                          Description  Quantity  \\\n",
      "0    536365    85123A   WHITE HANGING HEART T-LIGHT HOLDER         6   \n",
      "1    536365     71053                  WHITE METAL LANTERN         6   \n",
      "2    536365    84406B       CREAM CUPID HEARTS COAT HANGER         8   \n",
      "3    536365    84029G  KNITTED UNION FLAG HOT WATER BOTTLE         6   \n",
      "4    536365    84029E       RED WOOLLY HOTTIE WHITE HEART.         6   \n",
      "\n",
      "      InvoiceDate  UnitPrice  CustomerID         Country  \n",
      "0  1/12/2010 8:26       2.55     17850.0  United Kingdom  \n",
      "1  1/12/2010 8:26       3.39     17850.0  United Kingdom  \n",
      "2  1/12/2010 8:26       2.75     17850.0  United Kingdom  \n",
      "3  1/12/2010 8:26       3.39     17850.0  United Kingdom  \n",
      "4  1/12/2010 8:26       3.39     17850.0  United Kingdom  \n"
     ]
    },
    {
     "name": "stderr",
     "output_type": "stream",
     "text": [
      "C:\\Users\\Felipe Biatturi\\AppData\\Local\\Temp\\ipykernel_9476\\2205513297.py:2: DtypeWarning: Columns (0) have mixed types. Specify dtype option on import or set low_memory=False.\n",
      "  online_retail = pd.read_csv(file_path)\n"
     ]
    }
   ],
   "source": [
    "file_path = \"C:/Users/Felipe Biatturi/Desktop/online_retail.csv\"\n",
    "online_retail = pd.read_csv(file_path)\n",
    "print(online_retail.head())"
   ]
  },
  {
   "cell_type": "markdown",
   "metadata": {},
   "source": [
    "Excelente! Ya hemos leído satisfactoriamente nuestros datos y ya tenemos nuestro dataframe listo para analizar.\n",
    "\n",
    "**Observación:** Pandas también provee una función análoga a `.head()` llamada [.tail()](https://pandas.pydata.org/pandas-docs/stable/reference/api/pandas.DataFrame.tail.html). Mientras que `.head()` visualiza los *primeros N* datos, la función `.tail()` nos permite visualizar los *últimos N* datos."
   ]
  },
  {
   "cell_type": "markdown",
   "metadata": {},
   "source": [
    "<a class='anchor' id=\"2\"></a>"
   ]
  },
  {
   "cell_type": "markdown",
   "metadata": {},
   "source": [
    "### <font color='289C4E'>2) Dimensión del dataframe<font> [↑](#inicio) \n",
    "\n",
    "Frecuentemente, es de nuestro interés conocer las dimensiones de nuestro *dataframe* (DF de ahora en más). Imprima usando la función [.shape()](https://pandas.pydata.org/pandas-docs/stable/reference/api/pandas.DataFrame.shape.html) el número de filas y número de columnas del DF. "
   ]
  },
  {
   "cell_type": "code",
   "execution_count": 5,
   "metadata": {},
   "outputs": [
    {
     "name": "stdout",
     "output_type": "stream",
     "text": [
      "El DataFrame tiene 532619 filas y 8 columnas.\n"
     ]
    }
   ],
   "source": [
    "dimensiones = online_retail.shape\n",
    "print(f\"El DataFrame tiene {dimensiones[0]} filas y {dimensiones[1]} columnas.\")"
   ]
  },
  {
   "cell_type": "code",
   "execution_count": null,
   "metadata": {},
   "outputs": [],
   "source": [
    "x = 3  # cantidad de perros\n",
    "y = 1  # cantidad de gatos\n",
    "print(\"Russell tiene %s perros\" % x)\n",
    "print(\"Russell tiene %s gato\" % y)\n",
    "print(\"Russell tiene %s perros y un %s gato\" % (x,y))"
   ]
  },
  {
   "cell_type": "markdown",
   "metadata": {},
   "source": [
    "**Observación:** a la hora de usar la función `print()` se pueden pasar valores de variables para ser impresas usando formatting de la siguiente manera:\n",
    "```\n",
    "### Ejemplo:\n",
    "x = 3  # cantidad de perros\n",
    "y = 1  # cantidad de gatos\n",
    "print(\"Russell tiene %s perros\" % x)\n",
    "print(\"Russell tiene %s gato\" % y)\n",
    "print(\"Russell tiene %s perros y un %s gato\" % (x,y))\n",
    "```"
   ]
  },
  {
   "cell_type": "markdown",
   "metadata": {},
   "source": [
    "<a class='anchor' id=\"3\"></a>"
   ]
  },
  {
   "cell_type": "markdown",
   "metadata": {},
   "source": [
    "### <font color='289C4E'>3) Selección de columnas<font> [↑](#inicio) \n",
    "    \n",
    "Las columnas de un dataframe pueden ser seleccionadas de distintas formas. Pandas nos permite consultar datos de nuestro dataframe utilizando el operador de indexado [] . Además del operador genérico cuenta con dos operadores\n",
    "particulares [.iloc](https://pandas.pydata.org/pandas-docs/stable/reference/api/pandas.DataFrame.iloc.html) y [.loc](https://pandas.pydata.org/docs/reference/api/pandas.DataFrame.loc.html) . El operador `.iloc` nos permite consultar nuestra tabla por ubicación numérica (posición) de filas/columnas y el operador `.loc` nos permite consultar nuestra tabla por nombres (labels) de filas/columnas.\n",
    "   \n",
    "- Seleccione la columna `Description` utilizando la función `.loc[]`\n",
    ".- Seleccione la columna `UnitPrice` utilizando la función `.iloc[]`\n",
    "- Seleccione las columnas `StockCode` y \"Quantity\" simultáneamente usando `.loc[]`\n",
    "- Seleccione las columnas `InvoiceNo` y \"CustomerID\" simultáneamente usando `.iloc[]`\n",
    "- Seleccione la columna `Country` sin usar `.loc[]` ni `.iloc[]` (df.column_name)\n"
   ]
  },
  {
   "cell_type": "code",
   "execution_count": 6,
   "metadata": {},
   "outputs": [
    {
     "name": "stdout",
     "output_type": "stream",
     "text": [
      "0     WHITE HANGING HEART T-LIGHT HOLDER\n",
      "1                    WHITE METAL LANTERN\n",
      "2         CREAM CUPID HEARTS COAT HANGER\n",
      "3    KNITTED UNION FLAG HOT WATER BOTTLE\n",
      "4         RED WOOLLY HOTTIE WHITE HEART.\n",
      "Name: Description, dtype: object\n",
      "0    2.55\n",
      "1    3.39\n",
      "2    2.75\n",
      "3    3.39\n",
      "4    3.39\n",
      "Name: UnitPrice, dtype: float64\n",
      "  StockCode  Quantity\n",
      "0    85123A         6\n",
      "1     71053         6\n",
      "2    84406B         8\n",
      "3    84029G         6\n",
      "4    84029E         6\n",
      "  InvoiceNo  CustomerID\n",
      "0    536365     17850.0\n",
      "1    536365     17850.0\n",
      "2    536365     17850.0\n",
      "3    536365     17850.0\n",
      "4    536365     17850.0\n",
      "0    United Kingdom\n",
      "1    United Kingdom\n",
      "2    United Kingdom\n",
      "3    United Kingdom\n",
      "4    United Kingdom\n",
      "Name: Country, dtype: object\n"
     ]
    }
   ],
   "source": [
    "description_column = online_retail.loc[:, 'Description']\n",
    "print(description_column.head())\n",
    "\n",
    "unitprice_column = online_retail.iloc[:, 5]\n",
    "print(unitprice_column.head())\n",
    "\n",
    "stock_quantity_columns = online_retail.loc[:, ['StockCode', 'Quantity']]\n",
    "print(stock_quantity_columns.head())\n",
    "\n",
    "invoice_customer_columns = online_retail.iloc[:, [0, 6]]  \n",
    "print(invoice_customer_columns.head())\n",
    "\n",
    "country_column = online_retail.Country\n",
    "print(country_column.head())\n"
   ]
  },
  {
   "cell_type": "markdown",
   "metadata": {},
   "source": [
    "<a class='anchor' id=\"4\"></a>"
   ]
  },
  {
   "cell_type": "markdown",
   "metadata": {},
   "source": [
    "### <font color='289C4E'>4) Establecer columna índice<font> [↑](#inicio) \n",
    "\n",
    "`pandas` nos permite seleccionar cual va a ser la columna que vamos utilizar como índice de nuestros datos. En caso de no seleccionar índice, pandas incluye un índice por defecto que va de (0:numero filas). En nuestro caso podemos utilizar la función [set_index()](https://pandas.pydata.org/docs/reference/api/pandas.DataFrame.set_index.html) para cambiar la columna `InvoiceNo` como índice de nuestra tabla a modo de prueba."
   ]
  },
  {
   "cell_type": "code",
   "execution_count": 7,
   "metadata": {},
   "outputs": [
    {
     "name": "stdout",
     "output_type": "stream",
     "text": [
      "          StockCode                          Description  Quantity  \\\n",
      "InvoiceNo                                                            \n",
      "536365       85123A   WHITE HANGING HEART T-LIGHT HOLDER         6   \n",
      "536365        71053                  WHITE METAL LANTERN         6   \n",
      "536365       84406B       CREAM CUPID HEARTS COAT HANGER         8   \n",
      "536365       84029G  KNITTED UNION FLAG HOT WATER BOTTLE         6   \n",
      "536365       84029E       RED WOOLLY HOTTIE WHITE HEART.         6   \n",
      "\n",
      "              InvoiceDate  UnitPrice  CustomerID         Country  \n",
      "InvoiceNo                                                         \n",
      "536365     1/12/2010 8:26       2.55     17850.0  United Kingdom  \n",
      "536365     1/12/2010 8:26       3.39     17850.0  United Kingdom  \n",
      "536365     1/12/2010 8:26       2.75     17850.0  United Kingdom  \n",
      "536365     1/12/2010 8:26       3.39     17850.0  United Kingdom  \n",
      "536365     1/12/2010 8:26       3.39     17850.0  United Kingdom  \n"
     ]
    }
   ],
   "source": [
    "online_retail_indexed = online_retail.set_index('InvoiceNo')\n",
    "\n",
    "print(online_retail_indexed.head())"
   ]
  },
  {
   "cell_type": "markdown",
   "metadata": {},
   "source": [
    "Dado que la columna `InvoiceNo` no contiene valores únicos no es un buen atributo para utilizar de índice. Utilizar la función [.reset_index()](https://pandas.pydata.org/docs/reference/api/pandas.DataFrame.reset_index.html) para volver el dataframe a su estado original."
   ]
  },
  {
   "cell_type": "code",
   "execution_count": 8,
   "metadata": {},
   "outputs": [
    {
     "name": "stdout",
     "output_type": "stream",
     "text": [
      "   index InvoiceNo StockCode                          Description  Quantity  \\\n",
      "0      0    536365    85123A   WHITE HANGING HEART T-LIGHT HOLDER         6   \n",
      "1      1    536365     71053                  WHITE METAL LANTERN         6   \n",
      "2      2    536365    84406B       CREAM CUPID HEARTS COAT HANGER         8   \n",
      "3      3    536365    84029G  KNITTED UNION FLAG HOT WATER BOTTLE         6   \n",
      "4      4    536365    84029E       RED WOOLLY HOTTIE WHITE HEART.         6   \n",
      "\n",
      "      InvoiceDate  UnitPrice  CustomerID         Country  \n",
      "0  1/12/2010 8:26       2.55     17850.0  United Kingdom  \n",
      "1  1/12/2010 8:26       3.39     17850.0  United Kingdom  \n",
      "2  1/12/2010 8:26       2.75     17850.0  United Kingdom  \n",
      "3  1/12/2010 8:26       3.39     17850.0  United Kingdom  \n",
      "4  1/12/2010 8:26       3.39     17850.0  United Kingdom  \n"
     ]
    }
   ],
   "source": [
    "online_retail_reset = online_retail.reset_index()\n",
    "\n",
    "print(online_retail_reset.head())"
   ]
  },
  {
   "cell_type": "markdown",
   "metadata": {},
   "source": [
    "<a class='anchor' id=\"5\"></a>"
   ]
  },
  {
   "cell_type": "markdown",
   "metadata": {},
   "source": [
    "### <font color='289C4E'>5) Conteo de datos únicos<font> [↑](#inicio) \n",
    "    \n",
    "Podemos conocer la cantidad de valores únicos de nuestras columnas utilizando la función [.nunique()](https://pandas.pydata.org/pandas-docs/stable/reference/api/pandas.DataFrame.nunique.html). Por qué habría de interesarnos conocer nuestros valores únicos? (Enliste al menos 3 razones)\n",
    "1. \n",
    "2. \n",
    "3. "
   ]
  },
  {
   "cell_type": "markdown",
   "metadata": {},
   "source": [
    "1.Detección de duplicados y limpieza de datos:\n",
    "\n",
    "2.Análisis exploratorio y comprensión de datos:\n",
    "\n",
    "3.Selección de variables para modelado:"
   ]
  },
  {
   "cell_type": "markdown",
   "metadata": {},
   "source": [
    "<a class='anchor' id=\"6\"></a>"
   ]
  },
  {
   "cell_type": "markdown",
   "metadata": {},
   "source": [
    "### <font color='289C4E'>6) Visualizar datos únicos<font> [↑](#inicio) \n",
    "    \n",
    "Además de saber la cantidad de valores únicos podemos determinar cuales son los valores únicos. Utilize la función [.unique()](https://pandas.pydata.org/pandas-docs/stable/reference/api/pandas.unique.html) para determinar todos los valores únicos de la columna `Country`."
   ]
  },
  {
   "cell_type": "code",
   "execution_count": 9,
   "metadata": {},
   "outputs": [
    {
     "name": "stdout",
     "output_type": "stream",
     "text": [
      "['United Kingdom' 'France' 'Australia' 'Netherlands' 'Germany' 'Norway'\n",
      " 'EIRE' 'Switzerland' 'Spain' 'Poland' 'Portugal' 'Italy' 'Belgium'\n",
      " 'Lithuania' 'Japan' 'Iceland' 'Channel Islands' 'Denmark' 'Cyprus'\n",
      " 'Sweden' 'Finland' 'Austria' 'Bahrain' 'Israel' 'Greece' 'Hong Kong'\n",
      " 'Singapore' 'Lebanon' 'United Arab Emirates' 'Saudi Arabia'\n",
      " 'Czech Republic' 'Canada' 'Unspecified' 'Brazil' 'USA'\n",
      " 'European Community' 'Malta' 'RSA']\n"
     ]
    }
   ],
   "source": [
    "valores_unicos_country = online_retail['Country'].unique()\n",
    "print(valores_unicos_country)"
   ]
  },
  {
   "cell_type": "markdown",
   "metadata": {},
   "source": [
    "<a class='anchor' id=\"7\"></a>"
   ]
  },
  {
   "cell_type": "markdown",
   "metadata": {},
   "source": [
    "### <font color='289C4E'>7) Determinar el tipo de datos<font> [↑](#inicio) \n",
    "Como hemos visto en clase, existen múltiples tipos de datos. Estos pueden ser númericos interval, numéricos ratio, categóricos nominales, categóricos ordinales, etc. \n",
    "1.  Conceptualmente, determine que tipo de dato es cada una de las columnas acorde a lo visto en el teórico. \n",
    "2. Determine el tipo de dato de cada columna usando la función [.dtypes](https://pandas.pydata.org/docs/reference/api/pandas.DataFrame.dtypes.html)\n",
    "3. Convierta la columna \"InvoiceDate\" a formato datetime usando la función [pd.to_datetime()](https://pandas.pydata.org/pandas-docs/stable/reference/api/pandas.to_datetime.html)"
   ]
  },
  {
   "cell_type": "markdown",
   "metadata": {},
   "source": [
    "- **InvoiceNo:** \n",
    "- **StockCode:**  \n",
    "- **Description:**\n",
    "- **Quantity:**\n",
    "- **InvoiceDate:**\n",
    "- **UnitPrice:**\n",
    "- **CustomerID:**\n",
    "- **Country:**"
   ]
  },
  {
   "cell_type": "markdown",
   "metadata": {},
   "source": [
    "InvoiceNo: Tipo de Dato Conceptual: Categórico nominal. Representa un identificador único para cada factura. Aunque es numérico, su uso es como identificador, no para cálculos matemáticos.\n",
    "\n",
    "StockCode: Tipo de Dato Conceptual: Categórico nominal. Representa el código único del producto, utilizado como identificador.\n",
    "\n",
    "Description: Tipo de Dato Conceptual: Categórico nominal. Contiene descripciones de los productos, lo que permite clasificar productos en diferentes categorías.\n",
    "\n",
    "Quantity: Tipo de Dato Conceptual: Numérico ratio. Representa la cantidad de productos vendidos y se puede utilizar en cálculos matemáticos y estadísticas.\n",
    "\n",
    "InvoiceDate: Tipo de Dato Conceptual: Temporal. Representa la fecha y hora de la factura. Es una fecha y hora en la que se realizan las transacciones.\n",
    "\n",
    "UnitPrice: Tipo de Dato Conceptual: Numérico ratio. Representa el precio por unidad de producto, útil para cálculos y análisis.\n",
    "\n",
    "CustomerID: Tipo de Dato Conceptual: Categórico nominal. Representa un identificador único para cada cliente.\n",
    "\n",
    "Country: Tipo de Dato Conceptual: Categórico nominal. Indica el país en el que se realizó la compra."
   ]
  },
  {
   "cell_type": "code",
   "execution_count": 15,
   "metadata": {},
   "outputs": [
    {
     "name": "stdout",
     "output_type": "stream",
     "text": [
      "InvoiceNo              object\n",
      "StockCode              object\n",
      "Description            object\n",
      "Quantity                int64\n",
      "InvoiceDate    datetime64[ns]\n",
      "UnitPrice             float64\n",
      "CustomerID            float64\n",
      "Country                object\n",
      "dtype: object\n"
     ]
    }
   ],
   "source": [
    "online_retail['InvoiceDate'] = pd.to_datetime(online_retail['InvoiceDate'], format='%d/%m/%Y %H:%M')\n",
    "print(online_retail.dtypes)"
   ]
  },
  {
   "cell_type": "markdown",
   "metadata": {},
   "source": [
    "<a class='anchor' id=\"8\"></a>"
   ]
  },
  {
   "cell_type": "markdown",
   "metadata": {},
   "source": [
    "### <font color='289C4E'>8) Filtros<font> [↑](#inicio) \n",
    "Una de las operaciones más frecuentes que realizamos sobre DFs es filtrar la información acorde a ciertos parámetros de búsqueda o requisitos. Obtenga todas los registros:\n",
    "1. Cuyo país sea Holanda.\n",
    "2. De los países ['Italy', 'Belgium', 'Lithuania', 'Japan', 'Iceland'] usando una lista.\n",
    "3. De los países de la lista anterior cuya cantidad sea superior a 12.\n",
    "4. Cuyo UnitPrice sea superior a 0.3 pero igual o menor a 0.6\n",
    "5. Entre el 01/01/2010 y el 01/01/2011\n",
    "6. Cuya descripción sea \"CUTLERY CIRCUS\". (**Tip:** use la función [pd.str.contains()](https://pandas.pydata.org/pandas-docs/stable/reference/api/pandas.Series.str.contains.html))\n",
    "7. Cuyo país sea \"United Kingdom\" y \"CustomerID\" sea faltante (null). "
   ]
  },
  {
   "cell_type": "code",
   "execution_count": 16,
   "metadata": {},
   "outputs": [
    {
     "name": "stdout",
     "output_type": "stream",
     "text": [
      "Registros cuyo país sea Holanda:\n",
      "       InvoiceNo StockCode                        Description  Quantity  \\\n",
      "376       536403     22867            HAND WARMER BIRD DESIGN        96   \n",
      "377       536403      POST                            POSTAGE         1   \n",
      "37348     539491     21981       PACK OF 12 WOODLAND TISSUES         12   \n",
      "37349     539491     21986   PACK OF 12 PINK POLKADOT TISSUES        12   \n",
      "37350     539491     22720  SET OF 3 CAKE TINS PANTRY DESIGN          2   \n",
      "...          ...       ...                                ...       ...   \n",
      "525744    581176     22908      PACK OF 20 NAPKINS RED APPLES        96   \n",
      "525745    581176     22907   PACK OF 20 NAPKINS PANTRY DESIGN        96   \n",
      "525746    581176     22029             SPACEBOY BIRTHDAY CARD        72   \n",
      "525747    581176     22712                   CARD DOLLY GIRL         72   \n",
      "528536    581338     23344          JUMBO BAG 50'S CHRISTMAS        140   \n",
      "\n",
      "               InvoiceDate  UnitPrice  CustomerID      Country  \n",
      "376    2010-12-01 11:27:00       1.85     12791.0  Netherlands  \n",
      "377    2010-12-01 11:27:00      15.00     12791.0  Netherlands  \n",
      "37348  2010-12-20 10:09:00       0.29     14646.0  Netherlands  \n",
      "37349  2010-12-20 10:09:00       0.29     14646.0  Netherlands  \n",
      "37350  2010-12-20 10:09:00       4.95     14646.0  Netherlands  \n",
      "...                    ...        ...         ...          ...  \n",
      "525744 2011-12-07 15:19:00       0.72     14646.0  Netherlands  \n",
      "525745 2011-12-07 15:19:00       0.72     14646.0  Netherlands  \n",
      "525746 2011-12-07 15:19:00       0.36     14646.0  Netherlands  \n",
      "525747 2011-12-07 15:19:00       0.36     14646.0  Netherlands  \n",
      "528536 2011-12-08 12:12:00       1.79     14646.0  Netherlands  \n",
      "\n",
      "[2363 rows x 8 columns]\n",
      "\n",
      "Registros de los países ['Italy', 'Belgium', 'Lithuania', 'Japan', 'Iceland']:\n",
      "       InvoiceNo StockCode                          Description  Quantity  \\\n",
      "7131      537022     22791         T-LIGHT GLASS FLUTED ANTIQUE        12   \n",
      "7132      537022     21287        SCENTED VELVET LOUNGE CANDLE         12   \n",
      "7133      537022     79337        BLUE FLOCK GLASS CANDLEHOLDER         6   \n",
      "7134      537022     85111  SILVER GLITTER FLOWER VOTIVE HOLDER        12   \n",
      "7135      537022     85038      6 CHOCOLATE LOVE HEART T-LIGHTS         6   \n",
      "...          ...       ...                                  ...       ...   \n",
      "531908    581493     23204          CHARLOTTE BAG APPLES DESIGN        10   \n",
      "531909    581493     21108   FAIRY CAKE FLANNEL ASSORTED COLOUR        18   \n",
      "531910    581493     22252  BIRDCAGE DECORATION TEALIGHT HOLDER        12   \n",
      "531911    581493     22807         SET OF 6 T-LIGHTS TOADSTOOLS         6   \n",
      "531912    581493      POST                              POSTAGE         1   \n",
      "\n",
      "               InvoiceDate  UnitPrice  CustomerID  Country  \n",
      "7131   2010-12-03 15:45:00       1.25     12725.0    Italy  \n",
      "7132   2010-12-03 15:45:00       1.25     12725.0    Italy  \n",
      "7133   2010-12-03 15:45:00       1.65     12725.0    Italy  \n",
      "7134   2010-12-03 15:45:00       1.25     12725.0    Italy  \n",
      "7135   2010-12-03 15:45:00       2.10     12725.0    Italy  \n",
      "...                    ...        ...         ...      ...  \n",
      "531908 2011-12-09 10:10:00       0.85     12423.0  Belgium  \n",
      "531909 2011-12-09 10:10:00       0.79     12423.0  Belgium  \n",
      "531910 2011-12-09 10:10:00       1.25     12423.0  Belgium  \n",
      "531911 2011-12-09 10:10:00       2.95     12423.0  Belgium  \n",
      "531912 2011-12-09 10:10:00      15.00     12423.0  Belgium  \n",
      "\n",
      "[3327 rows x 8 columns]\n",
      "\n",
      "Registros de los países de la lista anterior cuya cantidad sea superior a 12:\n",
      "       InvoiceNo StockCode                         Description  Quantity  \\\n",
      "7140      537022     85078   SCANDINAVIAN 3 HEARTS NAPKIN RING        24   \n",
      "7197      537026     21212     PACK OF 72 RETROSPOT CAKE CASES       120   \n",
      "7198      537026     21977  PACK OF 60 PINK PAISLEY CAKE CASES       120   \n",
      "7199      537026     22417      PACK OF 60 SPACEBOY CAKE CASES       120   \n",
      "7200      537026     21975      PACK OF 60 DINOSAUR CAKE CASES        48   \n",
      "...          ...       ...                                 ...       ...   \n",
      "525798    581180     23508      MINI PLAYING CARDS DOLLY GIRL         20   \n",
      "531896    581493    79190B            RETRO PLASTIC POLKA TRAY        15   \n",
      "531897    581493    79190A             RETRO PLASTIC 70'S TRAY        15   \n",
      "531899    581493     22151           PLACE SETTING WHITE HEART        24   \n",
      "531909    581493     21108  FAIRY CAKE FLANNEL ASSORTED COLOUR        18   \n",
      "\n",
      "               InvoiceDate  UnitPrice  CustomerID  Country  \n",
      "7140   2010-12-03 15:45:00       0.65     12725.0    Italy  \n",
      "7197   2010-12-03 16:35:00       0.42     12395.0  Belgium  \n",
      "7198   2010-12-03 16:35:00       0.42     12395.0  Belgium  \n",
      "7199   2010-12-03 16:35:00       0.42     12395.0  Belgium  \n",
      "7200   2010-12-03 16:35:00       0.55     12395.0  Belgium  \n",
      "...                    ...        ...         ...      ...  \n",
      "525798 2011-12-07 15:52:00       0.42     12347.0  Iceland  \n",
      "531896 2011-12-09 10:10:00       0.42     12423.0  Belgium  \n",
      "531897 2011-12-09 10:10:00       0.42     12423.0  Belgium  \n",
      "531899 2011-12-09 10:10:00       0.42     12423.0  Belgium  \n",
      "531909 2011-12-09 10:10:00       0.79     12423.0  Belgium  \n",
      "\n",
      "[768 rows x 8 columns]\n",
      "\n",
      "Registros cuyo UnitPrice sea superior a 0.3 pero igual o menor a 0.6:\n",
      "       InvoiceNo StockCode                         Description  Quantity  \\\n",
      "42        536370     22540          MINI JIGSAW CIRCUS PARADE         24   \n",
      "43        536370     22544                MINI JIGSAW SPACEBOY        24   \n",
      "96        536378     21212     PACK OF 72 RETROSPOT CAKE CASES       120   \n",
      "97        536378     21975      PACK OF 60 DINOSAUR CAKE CASES        24   \n",
      "98        536378     21977  PACK OF 60 PINK PAISLEY CAKE CASES        24   \n",
      "...          ...       ...                                 ...       ...   \n",
      "532564    581580     22075        6 RIBBONS ELEGANT CHRISTMAS          2   \n",
      "532579    581585     22481      BLACK TEA TOWEL CLASSIC DESIGN        12   \n",
      "532592    581585     21916     SET 12 RETRO WHITE CHALK STICKS        24   \n",
      "532593    581585     84692         BOX OF 24 COCKTAIL PARASOLS        25   \n",
      "532596    581585     22398          MAGNETS PACK OF 4 SWALLOWS        12   \n",
      "\n",
      "               InvoiceDate  UnitPrice  CustomerID         Country  \n",
      "42     2010-12-01 08:45:00       0.42     12583.0          France  \n",
      "43     2010-12-01 08:45:00       0.42     12583.0          France  \n",
      "96     2010-12-01 09:37:00       0.42     14688.0  United Kingdom  \n",
      "97     2010-12-01 09:37:00       0.55     14688.0  United Kingdom  \n",
      "98     2010-12-01 09:37:00       0.55     14688.0  United Kingdom  \n",
      "...                    ...        ...         ...             ...  \n",
      "532564 2011-12-09 12:20:00       0.39     12748.0  United Kingdom  \n",
      "532579 2011-12-09 12:31:00       0.39     15804.0  United Kingdom  \n",
      "532592 2011-12-09 12:31:00       0.42     15804.0  United Kingdom  \n",
      "532593 2011-12-09 12:31:00       0.42     15804.0  United Kingdom  \n",
      "532596 2011-12-09 12:31:00       0.39     15804.0  United Kingdom  \n",
      "\n",
      "[41886 rows x 8 columns]\n",
      "\n",
      "Registros entre el 01/01/2010 y el 01/01/2011:\n",
      "      InvoiceNo StockCode                          Description  Quantity  \\\n",
      "0        536365    85123A   WHITE HANGING HEART T-LIGHT HOLDER         6   \n",
      "1        536365     71053                  WHITE METAL LANTERN         6   \n",
      "2        536365    84406B       CREAM CUPID HEARTS COAT HANGER         8   \n",
      "3        536365    84029G  KNITTED UNION FLAG HOT WATER BOTTLE         6   \n",
      "4        536365    84029E       RED WOOLLY HOTTIE WHITE HEART.         6   \n",
      "...         ...       ...                                  ...       ...   \n",
      "41748    539991     21618       4 WILDFLOWER BOTANICAL CANDLES         1   \n",
      "41749    539991     72741                GRAND CHOCOLATECANDLE         4   \n",
      "41750    539992     21470        FLOWER VINE RAFFIA FOOD COVER         1   \n",
      "41751    539992     22258              FELT FARM ANIMAL RABBIT         1   \n",
      "41752    539992     21155                RED RETROSPOT PEG BAG         1   \n",
      "\n",
      "              InvoiceDate  UnitPrice  CustomerID         Country  \n",
      "0     2010-12-01 08:26:00       2.55     17850.0  United Kingdom  \n",
      "1     2010-12-01 08:26:00       3.39     17850.0  United Kingdom  \n",
      "2     2010-12-01 08:26:00       2.75     17850.0  United Kingdom  \n",
      "3     2010-12-01 08:26:00       3.39     17850.0  United Kingdom  \n",
      "4     2010-12-01 08:26:00       3.39     17850.0  United Kingdom  \n",
      "...                   ...        ...         ...             ...  \n",
      "41748 2010-12-23 16:49:00       1.25         NaN  United Kingdom  \n",
      "41749 2010-12-23 16:49:00       1.45         NaN  United Kingdom  \n",
      "41750 2010-12-23 17:41:00       3.75         NaN  United Kingdom  \n",
      "41751 2010-12-23 17:41:00       1.25         NaN  United Kingdom  \n",
      "41752 2010-12-23 17:41:00       2.10         NaN  United Kingdom  \n",
      "\n",
      "[41753 rows x 8 columns]\n",
      "\n",
      "Registros cuya descripción sea 'CUTLERY CIRCUS':\n",
      "       InvoiceNo StockCode                      Description  Quantity  \\\n",
      "148682    549556     23255  CHILDRENS CUTLERY CIRCUS PARADE         2   \n",
      "153021    550033     23255  CHILDRENS CUTLERY CIRCUS PARADE         1   \n",
      "155703    550304     23255  CHILDRENS CUTLERY CIRCUS PARADE         4   \n",
      "156895    550364     23255  CHILDRENS CUTLERY CIRCUS PARADE         4   \n",
      "157411    550458     23255  CHILDRENS CUTLERY CIRCUS PARADE         1   \n",
      "...          ...       ...                              ...       ...   \n",
      "522715    580979     23255  CHILDRENS CUTLERY CIRCUS PARADE         4   \n",
      "523625    580997     23255  CHILDRENS CUTLERY CIRCUS PARADE         3   \n",
      "529416    581412     23255  CHILDRENS CUTLERY CIRCUS PARADE         3   \n",
      "532485    581578     23255  CHILDRENS CUTLERY CIRCUS PARADE        12   \n",
      "532617    581587     23255  CHILDRENS CUTLERY CIRCUS PARADE         4   \n",
      "\n",
      "               InvoiceDate  UnitPrice  CustomerID         Country  \n",
      "148682 2011-04-10 12:53:00       4.15     17372.0  United Kingdom  \n",
      "153021 2011-04-14 11:45:00       4.15     15005.0  United Kingdom  \n",
      "155703 2011-04-17 10:27:00       4.15     14092.0  United Kingdom  \n",
      "156895 2011-04-18 11:29:00       4.15     16713.0  United Kingdom  \n",
      "157411 2011-04-18 13:13:00       8.29         NaN  United Kingdom  \n",
      "...                    ...        ...         ...             ...  \n",
      "522715 2011-12-06 15:40:00       4.15     12362.0         Belgium  \n",
      "523625 2011-12-06 17:23:00       4.15     15023.0  United Kingdom  \n",
      "529416 2011-12-08 14:38:00       4.15     14415.0  United Kingdom  \n",
      "532485 2011-12-09 12:16:00       4.15     12713.0         Germany  \n",
      "532617 2011-12-09 12:50:00       4.15     12680.0          France  \n",
      "\n",
      "[159 rows x 8 columns]\n",
      "\n",
      "Registros cuyo país sea 'United Kingdom' y 'CustomerID' sea faltante (null):\n",
      "       InvoiceNo StockCode                      Description  Quantity  \\\n",
      "613       536414     22139                              NaN        56   \n",
      "1431      536544     21773  DECORATIVE ROSE BATHROOM BOTTLE         1   \n",
      "1432      536544     21774  DECORATIVE CATS BATHROOM BOTTLE         2   \n",
      "1433      536544     21786               POLKADOT RAIN HAT          4   \n",
      "1434      536544     21787            RAIN PONCHO RETROSPOT         2   \n",
      "...          ...       ...                              ...       ...   \n",
      "532250    581498    85099B          JUMBO BAG RED RETROSPOT         5   \n",
      "532251    581498    85099C   JUMBO  BAG BAROQUE BLACK WHITE         4   \n",
      "532252    581498     85150    LADIES & GENTLEMEN METAL SIGN         1   \n",
      "532253    581498     85174                S/4 CACTI CANDLES         1   \n",
      "532254    581498       DOT                   DOTCOM POSTAGE         1   \n",
      "\n",
      "               InvoiceDate  UnitPrice  CustomerID         Country  \n",
      "613    2010-12-01 11:52:00       0.00         NaN  United Kingdom  \n",
      "1431   2010-12-01 14:32:00       2.51         NaN  United Kingdom  \n",
      "1432   2010-12-01 14:32:00       2.51         NaN  United Kingdom  \n",
      "1433   2010-12-01 14:32:00       0.85         NaN  United Kingdom  \n",
      "1434   2010-12-01 14:32:00       1.66         NaN  United Kingdom  \n",
      "...                    ...        ...         ...             ...  \n",
      "532250 2011-12-09 10:26:00       4.13         NaN  United Kingdom  \n",
      "532251 2011-12-09 10:26:00       4.13         NaN  United Kingdom  \n",
      "532252 2011-12-09 10:26:00       4.96         NaN  United Kingdom  \n",
      "532253 2011-12-09 10:26:00      10.79         NaN  United Kingdom  \n",
      "532254 2011-12-09 10:26:00    1714.17         NaN  United Kingdom  \n",
      "\n",
      "[133275 rows x 8 columns]\n"
     ]
    }
   ],
   "source": [
    "holanda_records = online_retail[online_retail['Country'] == 'Netherlands']\n",
    "print(\"Registros cuyo país sea Holanda:\")\n",
    "print(holanda_records)\n",
    "\n",
    "paises_lista = ['Italy', 'Belgium', 'Lithuania', 'Japan', 'Iceland']\n",
    "registros_paises = online_retail[online_retail['Country'].isin(paises_lista)]\n",
    "print(\"\\nRegistros de los países ['Italy', 'Belgium', 'Lithuania', 'Japan', 'Iceland']:\")\n",
    "print(registros_paises)\n",
    "\n",
    "registros_paises_cantidad = registros_paises[registros_paises['Quantity'] > 12]\n",
    "print(\"\\nRegistros de los países de la lista anterior cuya cantidad sea superior a 12:\")\n",
    "print(registros_paises_cantidad)\n",
    "\n",
    "registros_precio = online_retail[(online_retail['UnitPrice'] > 0.3) & (online_retail['UnitPrice'] <= 0.6)]\n",
    "print(\"\\nRegistros cuyo UnitPrice sea superior a 0.3 pero igual o menor a 0.6:\")\n",
    "print(registros_precio)\n",
    "\n",
    "inicio_fecha = '2010-01-01'\n",
    "fin_fecha = '2011-01-01'\n",
    "registros_fechas = online_retail[(online_retail['InvoiceDate'] >= inicio_fecha) & (online_retail['InvoiceDate'] < fin_fecha)]\n",
    "print(\"\\nRegistros entre el 01/01/2010 y el 01/01/2011:\")\n",
    "print(registros_fechas)\n",
    "\n",
    "registros_descripcion = online_retail[online_retail['Description'].str.contains('CUTLERY CIRCUS', na=False)]\n",
    "print(\"\\nRegistros cuya descripción sea 'CUTLERY CIRCUS':\")\n",
    "print(registros_descripcion)\n",
    "\n",
    "registros_uk_null = online_retail[(online_retail['Country'] == 'United Kingdom') & (online_retail['CustomerID'].isna())]\n",
    "print(\"\\nRegistros cuyo país sea 'United Kingdom' y 'CustomerID' sea faltante (null):\")\n",
    "print(registros_uk_null)"
   ]
  },
  {
   "cell_type": "markdown",
   "metadata": {},
   "source": [
    "<a class='anchor' id=\"9\"></a>"
   ]
  },
  {
   "cell_type": "markdown",
   "metadata": {},
   "source": [
    "### <font color='289C4E'>9) Group by<font> [↑](#inicio) \n",
    "Es común querer realizar funciones de agregación (SUM, COUNT, MIN, MAX, AVG) luego de agrupar por una columna o un conjunto de columnas. Documentación: \n",
    "    \n",
    "- https://pandas.pydata.org/pandas-docs/stable/reference/api/pandas.DataFrame.groupby.html\n",
    "\n",
    "\n",
    "1. Determine la cantidad total por país: agrupe por la columna `Country` y sume la columna `Quantity`.\n",
    "2. Determine el promedio mensual de la cantidad: agrupe por la columna `InvoiceDate` de manera mensual y promedie por \"Quantity\". **Tip:** pd.Grouper(key='InvoiceDate',freq='M')\n",
    "3. Ahora combinaremos nuestros conocimientos de los puntos 1 y 2. Queremos saber la cantidad total por país pero ahora mes a mes. Agrupe primero por `Country` y luego por `InvoiceDate`. Sume `Quantity`.\n",
    "4. Por último, combinemos lo que hemos aprendido de filtros con lo que hemos aprendido de agrupación. Cree un filto que filtre el campo `Description` por todos los valores que contienen la palabra 'MINI' y que además `CustomerID` no sea nulo. Luego agrupe este resultado por la columna `Country` y tome el mínimo de `UnitPrice`"
   ]
  },
  {
   "cell_type": "code",
   "execution_count": 17,
   "metadata": {},
   "outputs": [
    {
     "name": "stdout",
     "output_type": "stream",
     "text": [
      "Cantidad total por país:\n",
      "Country\n",
      "Australia                 84209\n",
      "Austria                    4881\n",
      "Bahrain                     314\n",
      "Belgium                   23237\n",
      "Brazil                      356\n",
      "Canada                     2763\n",
      "Channel Islands            9491\n",
      "Cyprus                     6361\n",
      "Czech Republic              671\n",
      "Denmark                    8235\n",
      "EIRE                     147447\n",
      "European Community          499\n",
      "Finland                   10704\n",
      "France                   112104\n",
      "Germany                  119263\n",
      "Greece                     1557\n",
      "Hong Kong                  4773\n",
      "Iceland                    2458\n",
      "Israel                     4409\n",
      "Italy                      8112\n",
      "Japan                     26016\n",
      "Lebanon                     386\n",
      "Lithuania                   652\n",
      "Malta                       970\n",
      "Netherlands              200937\n",
      "Norway                    19338\n",
      "Poland                     3684\n",
      "Portugal                  16258\n",
      "RSA                         352\n",
      "Saudi Arabia                 80\n",
      "Singapore                  5241\n",
      "Spain                     27951\n",
      "Sweden                    36083\n",
      "Switzerland               30630\n",
      "USA                        2458\n",
      "United Arab Emirates        982\n",
      "United Kingdom          4526862\n",
      "Unspecified                3300\n",
      "Name: Quantity, dtype: int64\n",
      "\n",
      "Promedio mensual de la cantidad:\n",
      "InvoiceDate\n",
      "2010-12-31     8.580701\n",
      "2011-01-31    11.287552\n",
      "2011-02-28    10.313602\n",
      "2011-03-31     9.910594\n",
      "2011-04-30    10.312464\n",
      "2011-05-31    10.609471\n",
      "2011-06-30     9.650333\n",
      "2011-07-31    10.226972\n",
      "2011-08-31    12.091085\n",
      "2011-09-30    11.275490\n",
      "2011-10-31     9.994172\n",
      "2011-11-30     9.002296\n",
      "2011-12-31    12.315279\n",
      "Freq: ME, Name: Quantity, dtype: float64\n",
      "\n",
      "Cantidad total por país mes a mes:\n",
      "Country      InvoiceDate\n",
      "Australia    2010-12-31       467\n",
      "             2011-01-31      5644\n",
      "             2011-02-28      8680\n",
      "             2011-03-31     10439\n",
      "             2011-04-30       225\n",
      "                            ...  \n",
      "Unspecified  2011-06-30        78\n",
      "             2011-07-31      1053\n",
      "             2011-08-31       185\n",
      "             2011-09-30       258\n",
      "             2011-11-30       641\n",
      "Name: Quantity, Length: 302, dtype: int64\n"
     ]
    },
    {
     "name": "stderr",
     "output_type": "stream",
     "text": [
      "C:\\Users\\Felipe Biatturi\\AppData\\Local\\Temp\\ipykernel_9476\\3196837124.py:5: FutureWarning: 'M' is deprecated and will be removed in a future version, please use 'ME' instead.\n",
      "  promedio_mensual = online_retail.groupby(pd.Grouper(key='InvoiceDate', freq='M'))['Quantity'].mean()\n",
      "C:\\Users\\Felipe Biatturi\\AppData\\Local\\Temp\\ipykernel_9476\\3196837124.py:9: FutureWarning: 'M' is deprecated and will be removed in a future version, please use 'ME' instead.\n",
      "  cantidad_pais_mes = online_retail.groupby(['Country', pd.Grouper(key='InvoiceDate', freq='M')])['Quantity'].sum()\n"
     ]
    },
    {
     "name": "stdout",
     "output_type": "stream",
     "text": [
      "\n",
      "Mínimo de UnitPrice por país para registros con 'MINI' en Description y CustomerID no nulo:\n",
      "Country\n",
      "Australia                0.36\n",
      "Austria                  0.36\n",
      "Bahrain                  1.45\n",
      "Belgium                  0.42\n",
      "Canada                   0.83\n",
      "Channel Islands          0.63\n",
      "Cyprus                   1.45\n",
      "Denmark                  0.42\n",
      "EIRE                     0.29\n",
      "Finland                  0.42\n",
      "France                   0.19\n",
      "Germany                  0.19\n",
      "Greece                   0.83\n",
      "Iceland                  0.42\n",
      "Israel                   0.29\n",
      "Italy                    0.42\n",
      "Japan                    0.36\n",
      "Lebanon                 12.75\n",
      "Malta                    1.45\n",
      "Netherlands              0.19\n",
      "Norway                   0.42\n",
      "Poland                   0.83\n",
      "Portugal                 0.42\n",
      "RSA                      4.15\n",
      "Singapore                0.42\n",
      "Spain                    0.42\n",
      "Sweden                   0.42\n",
      "Switzerland              0.42\n",
      "USA                      0.65\n",
      "United Arab Emirates     0.65\n",
      "United Kingdom           0.00\n",
      "Unspecified              0.29\n",
      "Name: UnitPrice, dtype: float64\n"
     ]
    }
   ],
   "source": [
    "cantidad_por_pais = online_retail.groupby('Country')['Quantity'].sum()\n",
    "print(\"Cantidad total por país:\")\n",
    "print(cantidad_por_pais)\n",
    "\n",
    "promedio_mensual = online_retail.groupby(pd.Grouper(key='InvoiceDate', freq='M'))['Quantity'].mean()\n",
    "print(\"\\nPromedio mensual de la cantidad:\")\n",
    "print(promedio_mensual)\n",
    "\n",
    "cantidad_pais_mes = online_retail.groupby(['Country', pd.Grouper(key='InvoiceDate', freq='M')])['Quantity'].sum()\n",
    "print(\"\\nCantidad total por país mes a mes:\")\n",
    "print(cantidad_pais_mes)\n",
    "\n",
    "filtro_mini = online_retail[online_retail['Description'].str.contains('MINI', na=False) & online_retail['CustomerID'].notna()]\n",
    "min_unitprice_por_pais = filtro_mini.groupby('Country')['UnitPrice'].min()\n",
    "print(\"\\nMínimo de UnitPrice por país para registros con 'MINI' en Description y CustomerID no nulo:\")\n",
    "print(min_unitprice_por_pais)"
   ]
  },
  {
   "cell_type": "markdown",
   "metadata": {},
   "source": [
    "<a class='anchor' id=\"10\"></a>"
   ]
  },
  {
   "cell_type": "markdown",
   "metadata": {},
   "source": [
    "### <font color='289C4E'>10) Merge<font> [↑](#inicio) \n",
    "\n",
    "Muchas veces es de nuestro interés conectar tablas mediante una columna en común. Esto sucede frecuentemente cuando trabajamos con bases de datos relacionales, donde diversas tablas están vinculadas por uno o varios campos en común llamados **clave foránea** o **foreign key**. En esta ocasión, conectaremos la tabla `online_retail` con la tabla `country_codes` para obtener el código país asociado al nombre del país. \n",
    "    \n",
    "Conecte ambas tablas usando la función [pd.merge()](https://pandas.pydata.org/pandas-docs/stable/reference/api/pandas.DataFrame.merge.html) de pandas y cree una columna nueva dentro de `online_retail` llamada `countryCode`."
   ]
  },
  {
   "cell_type": "markdown",
   "metadata": {},
   "source": [
    "##### <font color='289C4E'>10.1) Cargue el .CSV \"country_codes\" que contiene los códigos país<font>"
   ]
  },
  {
   "cell_type": "code",
   "execution_count": 30,
   "metadata": {},
   "outputs": [
    {
     "name": "stdout",
     "output_type": "stream",
     "text": [
      "Nombres de las columnas en country_codes:\n",
      "Index(['Country', 'Alpha-2 code', 'Alpha-3 code', 'Numeric code',\n",
      "       'Latitude (average)', 'Longitude (average)'],\n",
      "      dtype='object')\n",
      "\n",
      "Primeras filas de country_codes:\n",
      "          Country Alpha-2 code Alpha-3 code Numeric code Latitude (average)  \\\n",
      "0     Afghanistan         \"AF\"        \"AFG\"          \"4\"               \"33\"   \n",
      "1         Albania         \"AL\"        \"ALB\"          \"8\"               \"41\"   \n",
      "2         Algeria         \"DZ\"        \"DZA\"         \"12\"               \"28\"   \n",
      "3  American Samoa         \"AS\"        \"ASM\"         \"16\"         \"-14.3333\"   \n",
      "4         Andorra         \"AD\"        \"AND\"         \"20\"             \"42.5\"   \n",
      "\n",
      "  Longitude (average)  \n",
      "0                \"65\"  \n",
      "1                \"20\"  \n",
      "2                 \"3\"  \n",
      "3              \"-170\"  \n",
      "4               \"1.6\"  \n"
     ]
    }
   ],
   "source": [
    "country_codes_path = r\"C:/Users/Felipe Biatturi/Desktop/country_codes.csv\"\n",
    "\n",
    "country_codes = pd.read_csv(country_codes_path)\n",
    "\n",
    "print(\"Nombres de las columnas en country_codes:\")\n",
    "print(country_codes.columns)\n",
    "\n",
    "print(\"\\nPrimeras filas de country_codes:\")\n",
    "print(country_codes.head())"
   ]
  },
  {
   "cell_type": "markdown",
   "metadata": {},
   "source": [
    "##### <font color='289C4E'>10.2) Crea una nueva columna en la tabla \"online_retail\" que contenga el código país asociado al nombre del país<font>"
   ]
  },
  {
   "cell_type": "code",
   "execution_count": null,
   "metadata": {},
   "outputs": [],
   "source": [
    "print(\"Nombres de las columnas en online_retail:\")\n",
    "print(online_retail.columns)\n",
    "\n",
    "print(\"\\nNombres de las columnas en country_codes:\")\n",
    "print(country_codes.columns)\n",
    "\n",
    "online_retail_with_codes = pd.merge(\n",
    "    online_retail,\n",
    "    country_codes,\n",
    "    left_on='Country',      \n",
    "    right_on='CountryName',    \n",
    "    how='left'\n",
    ")\n",
    "\n",
    "online_retail_with_codes['countryCode'] = online_retail_with_codes['CountryCode']  \n",
    "\n",
    "print(\"\\nPrimeras filas del DataFrame con countryCode agregado:\")\n",
    "print(online_retail_with_codes.head())"
   ]
  },
  {
   "cell_type": "markdown",
   "metadata": {},
   "source": [
    "<a class='anchor' id=\"11\"></a>"
   ]
  },
  {
   "cell_type": "markdown",
   "metadata": {},
   "source": [
    "### <font color='289C4E'>11) Mapas geográficos<font> [↑](#inicio)\n",
    "    \n",
    "1. Crea una nueva tabla que contenga el nombre del país, el código país y la cantidad de productos del país. Elimine los duplicados usando la función [drop_duplicates()](https://pandas.pydata.org/docs/reference/api/pandas.DataFrame.drop_duplicates.html)\n",
    "2. Elimine el país que contenga la mayor cantidad de productos.\n",
    "3. Visualize la cantidad de productos de cada país usando un mapa geográfico (opcional)\n",
    "\n",
    "[Hint](https://plotly.com/python/choropleth-maps/)"
   ]
  },
  {
   "cell_type": "code",
   "execution_count": 34,
   "metadata": {},
   "outputs": [
    {
     "name": "stdout",
     "output_type": "stream",
     "text": [
      "          Country Alpha-2 code Alpha-3 code Numeric code Latitude (average)  \\\n",
      "0     Afghanistan         \"AF\"        \"AFG\"          \"4\"               \"33\"   \n",
      "1         Albania         \"AL\"        \"ALB\"          \"8\"               \"41\"   \n",
      "2         Algeria         \"DZ\"        \"DZA\"         \"12\"               \"28\"   \n",
      "3  American Samoa         \"AS\"        \"ASM\"         \"16\"         \"-14.3333\"   \n",
      "4         Andorra         \"AD\"        \"AND\"         \"20\"             \"42.5\"   \n",
      "\n",
      "  Longitude (average)  \n",
      "0                \"65\"  \n",
      "1                \"20\"  \n",
      "2                 \"3\"  \n",
      "3              \"-170\"  \n",
      "4               \"1.6\"  \n",
      "Index(['Country', 'Alpha-2 code', 'Alpha-3 code', 'Numeric code',\n",
      "       'Latitude (average)', 'Longitude (average)'],\n",
      "      dtype='object')\n",
      "  InvoiceNo StockCode                          Description  Quantity  \\\n",
      "0    536365    85123A   WHITE HANGING HEART T-LIGHT HOLDER         6   \n",
      "1    536365     71053                  WHITE METAL LANTERN         6   \n",
      "2    536365    84406B       CREAM CUPID HEARTS COAT HANGER         8   \n",
      "3    536365    84029G  KNITTED UNION FLAG HOT WATER BOTTLE         6   \n",
      "4    536365    84029E       RED WOOLLY HOTTIE WHITE HEART.         6   \n",
      "\n",
      "          InvoiceDate  UnitPrice  CustomerID         Country Alpha-2 code  \\\n",
      "0 2010-12-01 08:26:00       2.55     17850.0  United Kingdom         \"GB\"   \n",
      "1 2010-12-01 08:26:00       3.39     17850.0  United Kingdom         \"GB\"   \n",
      "2 2010-12-01 08:26:00       2.75     17850.0  United Kingdom         \"GB\"   \n",
      "3 2010-12-01 08:26:00       3.39     17850.0  United Kingdom         \"GB\"   \n",
      "4 2010-12-01 08:26:00       3.39     17850.0  United Kingdom         \"GB\"   \n",
      "\n",
      "  Alpha-3 code Numeric code Latitude (average) Longitude (average) countryCode  \n",
      "0        \"GBR\"        \"826\"               \"54\"                \"-2\"        \"GB\"  \n",
      "1        \"GBR\"        \"826\"               \"54\"                \"-2\"        \"GB\"  \n",
      "2        \"GBR\"        \"826\"               \"54\"                \"-2\"        \"GB\"  \n",
      "3        \"GBR\"        \"826\"               \"54\"                \"-2\"        \"GB\"  \n",
      "4        \"GBR\"        \"826\"               \"54\"                \"-2\"        \"GB\"  \n"
     ]
    }
   ],
   "source": [
    "print(country_codes.head())\n",
    "print(country_codes.columns)\n",
    "\n",
    "online_retail_with_codes = pd.merge(\n",
    "    online_retail,\n",
    "    country_codes,\n",
    "    left_on='Country',     \n",
    "    right_on='Country',       \n",
    "    how='left'\n",
    ")\n",
    "\n",
    "online_retail_with_codes['countryCode'] = online_retail_with_codes['Alpha-2 code']\n",
    "\n",
    "print(online_retail_with_codes.head())"
   ]
  },
  {
   "cell_type": "markdown",
   "metadata": {},
   "source": [
    "<a class='anchor' id=\"12\"></a>"
   ]
  },
  {
   "cell_type": "markdown",
   "metadata": {},
   "source": [
    "### <font color='289C4E'>12) Operaciones con tablas usando MovieLens 100k<font> [↑](#inicio) \n",
    "    \n",
    "En esta seccion utilizaremos [MovieLens 100k](https://grouplens.org/datasets/movielens/100k/), una popular base de datos de ratings de peliculas. Esta tabla contiene ratings en una escala entre 1 y 5 puntos para cada combinacion User - Movie.\n",
    "\n",
    "Asuma la siguiente situación. La tabla de ratings hasta una fecha determinada ha sido cargada. Sin embargo, en otra fecha más adelante en el futuro se han generado más registros y, en consecuencia, la tabla `ratings` ha quedado desactualizada.\n",
    "\n",
    "Asuma que la tabla `ratings_1` es la tabla original, ahora desactualizada. Concaténele la tabla `ratings_2` usando la función [pd.concat()](https://pandas.pydata.org/docs/reference/api/pandas.concat.html) y llámele `ratings`."
   ]
  },
  {
   "cell_type": "code",
   "execution_count": 38,
   "metadata": {},
   "outputs": [
    {
     "name": "stdout",
     "output_type": "stream",
     "text": [
      "   Unnamed: 0  user  item  rating\n",
      "0           0   196   242       3\n",
      "1           1   186   302       3\n",
      "2           2    22   377       1\n",
      "3           3   244    51       2\n",
      "4           4   166   346       1\n"
     ]
    }
   ],
   "source": [
    "\n",
    "ratings_1_path = \"C:/Users/Felipe Biatturi/Desktop/ratings_1.csv\"\n",
    "ratings_2_path = \"C:/Users/Felipe Biatturi/Desktop/ratings_2.csv\"\n",
    "\n",
    "ratings_1 = pd.read_csv(ratings_1_path)\n",
    "ratings_2 = pd.read_csv(ratings_2_path)\n",
    "\n",
    "ratings = pd.concat([ratings_1, ratings_2], axis=0, ignore_index=True)\n",
    "\n",
    "print(ratings.head())\n",
    "\n",
    "output_path = \"C:/Users/Felipe Biatturi/Desktop/ratings_combined.csv\"\n",
    "ratings.to_csv(output_path, index=False)"
   ]
  },
  {
   "cell_type": "markdown",
   "metadata": {},
   "source": [
    "<a class='anchor' id=\"13\"></a>"
   ]
  },
  {
   "cell_type": "markdown",
   "metadata": {},
   "source": [
    "### <font color='289C4E'>13) Timestamps<font> [↑](#inicio) \n",
    "    \n",
    "Suponga ahora que el departamento de Data Engineering ha conseguido una columna adicional muy valiosa: las fechas cuando se han generado los ratings. De la misma manera que el punto anterior concaténe los dataframes `timestamps_1` y `timestamps_2` y llámele `timestamps`."
   ]
  },
  {
   "cell_type": "code",
   "execution_count": 39,
   "metadata": {},
   "outputs": [
    {
     "name": "stdout",
     "output_type": "stream",
     "text": [
      "   index  timestamp\n",
      "0      0  881250949\n",
      "1      1  891717742\n",
      "2      2  878887116\n",
      "3      3  880606923\n",
      "4      4  886397596\n"
     ]
    }
   ],
   "source": [
    "timestamps_1_path = \"C:/Users/Felipe Biatturi/Desktop/timestamps_1.csv\"\n",
    "timestamps_2_path = \"C:/Users/Felipe Biatturi/Desktop/timestamps_2.csv\"\n",
    "\n",
    "timestamps_1 = pd.read_csv(timestamps_1_path)\n",
    "timestamps_2 = pd.read_csv(timestamps_2_path)\n",
    "\n",
    "timestamps = pd.concat([timestamps_1, timestamps_2], axis=0, ignore_index=True)\n",
    "\n",
    "print(timestamps.head())\n",
    "\n",
    "output_path = \"C:/Users/Felipe Biatturi/Desktop/timestamps_combined.csv\"\n",
    "timestamps.to_csv(output_path, index=False)"
   ]
  },
  {
   "cell_type": "markdown",
   "metadata": {},
   "source": [
    "<a class='anchor' id=\"14\"></a>"
   ]
  },
  {
   "cell_type": "markdown",
   "metadata": {},
   "source": [
    "### <font color='289C4E'>14) Merge<font> [↑](#inicio) \n",
    "    \n",
    "Ahora tenemos por un lado una tabla `ratings` que contiene todos los registros de ratings existentes y, por otro lado, tenemos la tabla `timestamps` que contiene todas las fechas existentes. Estas dos tablas deben ser unidas mediante un índice en común (la columna index). Utilize la función [pd.merge()](https://pandas.pydata.org/pandas-docs/stable/reference/api/pandas.DataFrame.merge.html) para unir estas tablas. Llame a esta tabla `ml100`."
   ]
  },
  {
   "cell_type": "code",
   "execution_count": 43,
   "metadata": {},
   "outputs": [
    {
     "name": "stdout",
     "output_type": "stream",
     "text": [
      "Ratings columns: Index(['Unnamed: 0', 'user', 'item', 'rating'], dtype='object')\n",
      "Timestamps columns: Index(['index', 'timestamp'], dtype='object')\n",
      "La columna 'index' no está en ambos DataFrames. Por favor, revisa los nombres de las columnas.\n"
     ]
    }
   ],
   "source": [
    "\n",
    "ratings_path = \"C:/Users/Felipe Biatturi/Desktop/ratings_combined.csv\"\n",
    "timestamps_path = \"C:/Users/Felipe Biatturi/Desktop/timestamps_combined.csv\"\n",
    "\n",
    "ratings = pd.read_csv(ratings_path)\n",
    "timestamps = pd.read_csv(timestamps_path)\n",
    "\n",
    "print(\"Ratings columns:\", ratings.columns)\n",
    "print(\"Timestamps columns:\", timestamps.columns)\n",
    "\n",
    "if 'index' in ratings.columns and 'index' in timestamps.columns:\n",
    "    ml100 = pd.merge(ratings, timestamps, on='index', how='inner')\n",
    "    print(\"DataFrame ml100:\")\n",
    "    print(ml100.head())\n",
    "    output_path = \"C:/Users/Felipe Biatturi/Desktop/ml100.csv\"\n",
    "    ml100.to_csv(output_path, index=False)\n",
    "else:\n",
    "    print(\"La columna 'index' no está en ambos DataFrames. Por favor, revisa los nombres de las columnas.\")\n"
   ]
  },
  {
   "cell_type": "markdown",
   "metadata": {},
   "source": [
    "<a class='anchor' id=\"15\"></a>"
   ]
  },
  {
   "cell_type": "markdown",
   "metadata": {},
   "source": [
    "### <font color='289C4E'>15) Manipulación de formatos de fecha<font> [↑](#inicio)\n",
    "    \n",
    "El campo `timestamp` esta en un formato no agradable. Este campo se encuentra en formato [Unix Timestamp](https://en.wikipedia.org/wiki/Unix_time), el cual cuenta los segundos que han pasado desde el momento en que se generó el registro desde el primero de Enero de 1970 (UTC). Cambie el formato. \n",
    "\n",
    "**Tip:** \n",
    "1. `from datetime import datetime as dt`\n",
    "2. .apply(dt.fromtimestamp)"
   ]
  },
  {
   "cell_type": "code",
   "execution_count": null,
   "metadata": {},
   "outputs": [],
   "source": []
  },
  {
   "cell_type": "markdown",
   "metadata": {},
   "source": [
    "<a class='anchor' id=\"16\"></a>"
   ]
  },
  {
   "cell_type": "markdown",
   "metadata": {},
   "source": [
    "### <font color='289C4E'>16) Pivot<font> [↑](#inicio) \n",
    "    \n",
    "Queremos crear una tabla llamada `ratings_matrix` a partir de nuestra tabla `ml100`. La tabla `ratings` esta **unpivoted**. Nosotros queremos que la tabla `ratings_matrix` contenga IDs de usuarios en sus filas, IDs de películas (item IDs) en sus columnas y este rellena con los ratings asociados.\n",
    "\n",
    "Utilize la función de pandas [.pivot()](https://pandas.pydata.org/pandas-docs/stable/reference/api/pandas.DataFrame.pivot.html) para pivotear la tabla `ml100` y asi crear la tabla `ratings_matrix`."
   ]
  },
  {
   "cell_type": "code",
   "execution_count": null,
   "metadata": {
    "scrolled": true
   },
   "outputs": [],
   "source": []
  }
 ],
 "metadata": {
  "kernelspec": {
   "display_name": "Python 3 (ipykernel)",
   "language": "python",
   "name": "python3"
  },
  "language_info": {
   "codemirror_mode": {
    "name": "ipython",
    "version": 3
   },
   "file_extension": ".py",
   "mimetype": "text/x-python",
   "name": "python",
   "nbconvert_exporter": "python",
   "pygments_lexer": "ipython3",
   "version": "3.11.9"
  }
 },
 "nbformat": 4,
 "nbformat_minor": 2
}
